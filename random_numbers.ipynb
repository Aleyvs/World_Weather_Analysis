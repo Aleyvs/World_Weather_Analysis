{
 "cells": [
  {
   "cell_type": "code",
   "execution_count": 1,
   "id": "b4b755ac",
   "metadata": {},
   "outputs": [],
   "source": [
    "# Import the random module.\n",
    "import random\n"
   ]
  },
  {
   "cell_type": "code",
   "execution_count": 2,
   "id": "6dd59d49",
   "metadata": {},
   "outputs": [
    {
     "data": {
      "text/plain": [
       "-33"
      ]
     },
     "execution_count": 2,
     "metadata": {},
     "output_type": "execute_result"
    }
   ],
   "source": [
    "random.randint(-90,90) ## random integer within and equal to the set parameters\n",
    "\n"
   ]
  },
  {
   "cell_type": "code",
   "execution_count": 3,
   "id": "44dc847d",
   "metadata": {},
   "outputs": [
    {
     "data": {
      "text/plain": [
       "0.1729427785378599"
      ]
     },
     "execution_count": 3,
     "metadata": {},
     "output_type": "execute_result"
    }
   ],
   "source": [
    "random.random() ## random number less than 1 with a lot of decimals\n"
   ]
  },
  {
   "cell_type": "code",
   "execution_count": 4,
   "id": "91db0389",
   "metadata": {},
   "outputs": [
    {
     "data": {
      "text/plain": [
       "28.868706117580665"
      ]
     },
     "execution_count": 4,
     "metadata": {},
     "output_type": "execute_result"
    }
   ],
   "source": [
    "random_number = random.randint(-90,89) + random.random()\n",
    "random_number\n"
   ]
  },
  {
   "cell_type": "code",
   "execution_count": 5,
   "id": "7486dcd9",
   "metadata": {},
   "outputs": [
    {
     "data": {
      "text/plain": [
       "-84"
      ]
     },
     "execution_count": 5,
     "metadata": {},
     "output_type": "execute_result"
    }
   ],
   "source": [
    "random.randrange(-90,90, step=1) ## will jump between numbers in steps of 1"
   ]
  },
  {
   "cell_type": "code",
   "execution_count": 6,
   "id": "9d180c65",
   "metadata": {},
   "outputs": [
    {
     "data": {
      "text/plain": [
       "72"
      ]
     },
     "execution_count": 6,
     "metadata": {},
     "output_type": "execute_result"
    }
   ],
   "source": [
    "random.randrange(-90,90, step=3) ## will jump between numbers in steps of 3\n"
   ]
  },
  {
   "cell_type": "code",
   "execution_count": 7,
   "id": "9712f707",
   "metadata": {},
   "outputs": [
    {
     "data": {
      "text/plain": [
       "29.541683930164865"
      ]
     },
     "execution_count": 7,
     "metadata": {},
     "output_type": "execute_result"
    }
   ],
   "source": [
    "random.uniform(-90,90) ## random number with decimals within parameters"
   ]
  },
  {
   "cell_type": "code",
   "execution_count": 8,
   "id": "93c9bc8d",
   "metadata": {},
   "outputs": [],
   "source": [
    "# Import the NumPy module.\n",
    "import numpy as np"
   ]
  },
  {
   "cell_type": "code",
   "execution_count": 10,
   "id": "05577f67",
   "metadata": {},
   "outputs": [
    {
     "data": {
      "text/plain": [
       "-82.17452362612481"
      ]
     },
     "execution_count": 10,
     "metadata": {},
     "output_type": "execute_result"
    }
   ],
   "source": [
    "np.random.uniform(-90.000,90.000)"
   ]
  },
  {
   "cell_type": "code",
   "execution_count": 11,
   "id": "08ec104e",
   "metadata": {},
   "outputs": [
    {
     "data": {
      "text/plain": [
       "array([ 58.96141739, -15.37115763,  74.18949449, -26.75599109,\n",
       "        -7.95655582,  -8.1231308 ,  -1.99928155,  16.60363348,\n",
       "        -7.79673355,  -5.02589447,  27.51882899,  34.15868435,\n",
       "        76.44662463, -69.33282252, -37.58198214,  79.4840119 ,\n",
       "       -58.69866301, -10.21803527,  32.26935635,  77.79074522,\n",
       "       -32.7977319 , -22.18563808,  56.31886841,  25.07048796,\n",
       "       -38.75182649, -19.6513593 ,  29.15015886,  -8.47460766,\n",
       "        32.37857417, -79.97599348,  40.8178454 , -72.4448943 ,\n",
       "        70.03367845, -78.35004893, -10.24657301,  50.3226967 ,\n",
       "        -4.76418719,  80.91693424,  75.58237125,  85.36207532,\n",
       "        66.39663668,  16.52265226, -50.19688321,  28.7247751 ,\n",
       "        -1.65440038,  88.48749447,  33.32989139, -24.6715781 ,\n",
       "       -68.94432862,  17.73109647])"
      ]
     },
     "execution_count": 11,
     "metadata": {},
     "output_type": "execute_result"
    }
   ],
   "source": [
    " ## with np module we can add more than one value\n",
    "np.random.uniform(-90.000,90.000, size =50) ## size is the number of values you want\n",
    "## they will show in an array"
   ]
  },
  {
   "cell_type": "code",
   "execution_count": 12,
   "id": "61cf2b71",
   "metadata": {},
   "outputs": [],
   "source": [
    "# Import timeit.\n",
    "import timeit"
   ]
  },
  {
   "cell_type": "code",
   "execution_count": 13,
   "id": "213dc29e",
   "metadata": {},
   "outputs": [
    {
     "name": "stdout",
     "output_type": "stream",
     "text": [
      "19.3 µs ± 470 ns per loop (mean ± std. dev. of 7 runs, 10000 loops each)\n"
     ]
    }
   ],
   "source": [
    "%timeit np.random.uniform(-90.000, 90.000, size=1500)"
   ]
  },
  {
   "cell_type": "code",
   "execution_count": 14,
   "id": "8f8c4c01",
   "metadata": {},
   "outputs": [
    {
     "name": "stdout",
     "output_type": "stream",
     "text": [
      "2.5 ms ± 10.7 µs per loop (mean ± std. dev. of 7 runs, 100 loops each)\n"
     ]
    }
   ],
   "source": [
    "def latitudes(size):\n",
    "    latitudes = []\n",
    "    x = 0\n",
    "    while x < (size):\n",
    "        random_lat = random.randint(-90, 90) + random.random()\n",
    "        latitudes.append(random_lat)\n",
    "        x += 1\n",
    "    return latitudes\n",
    "# Call the function with 1500.\n",
    "%timeit latitudes(1500)\n"
   ]
  },
  {
   "cell_type": "code",
   "execution_count": 15,
   "id": "defa3d4e",
   "metadata": {},
   "outputs": [],
   "source": [
    "## using the random.uniform is 100 times faster than using a loop"
   ]
  },
  {
   "cell_type": "code",
   "execution_count": null,
   "id": "6af833cf",
   "metadata": {},
   "outputs": [],
   "source": []
  }
 ],
 "metadata": {
  "kernelspec": {
   "display_name": "PythonData",
   "language": "python",
   "name": "pythondata"
  },
  "language_info": {
   "codemirror_mode": {
    "name": "ipython",
    "version": 3
   },
   "file_extension": ".py",
   "mimetype": "text/x-python",
   "name": "python",
   "nbconvert_exporter": "python",
   "pygments_lexer": "ipython3",
   "version": "3.7.13"
  }
 },
 "nbformat": 4,
 "nbformat_minor": 5
}
